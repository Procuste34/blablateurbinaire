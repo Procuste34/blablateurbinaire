{
 "cells": [
  {
   "cell_type": "code",
   "execution_count": 1,
   "metadata": {},
   "outputs": [
    {
     "ename": "ModuleNotFoundError",
     "evalue": "No module named 'tensorboard'",
     "output_type": "error",
     "traceback": [
      "\u001b[0;31m---------------------------------------------------------------------------\u001b[0m",
      "\u001b[0;31mModuleNotFoundError\u001b[0m                       Traceback (most recent call last)",
      "Cell \u001b[0;32mIn[1], line 4\u001b[0m\n\u001b[1;32m      2\u001b[0m \u001b[39mimport\u001b[39;00m \u001b[39mtorch\u001b[39;00m\n\u001b[1;32m      3\u001b[0m \u001b[39mimport\u001b[39;00m \u001b[39mtorch\u001b[39;00m\u001b[39m.\u001b[39;00m\u001b[39mnn\u001b[39;00m\u001b[39m.\u001b[39;00m\u001b[39mfunctional\u001b[39;00m \u001b[39mas\u001b[39;00m \u001b[39mF\u001b[39;00m\n\u001b[0;32m----> 4\u001b[0m \u001b[39mfrom\u001b[39;00m \u001b[39mtorch\u001b[39;00m\u001b[39m.\u001b[39;00m\u001b[39mutils\u001b[39;00m\u001b[39m.\u001b[39;00m\u001b[39mtensorboard\u001b[39;00m \u001b[39mimport\u001b[39;00m SummaryWriter\n\u001b[1;32m      6\u001b[0m \u001b[39mimport\u001b[39;00m \u001b[39mmatplotlib\u001b[39;00m\u001b[39m.\u001b[39;00m\u001b[39mpyplot\u001b[39;00m \u001b[39mas\u001b[39;00m \u001b[39mplt\u001b[39;00m\n",
      "File \u001b[0;32m~/miniconda3/envs/torch23/lib/python3.11/site-packages/torch/utils/tensorboard/__init__.py:1\u001b[0m\n\u001b[0;32m----> 1\u001b[0m \u001b[39mimport\u001b[39;00m \u001b[39mtensorboard\u001b[39;00m\n\u001b[1;32m      2\u001b[0m \u001b[39mfrom\u001b[39;00m \u001b[39mdistutils\u001b[39;00m\u001b[39m.\u001b[39;00m\u001b[39mversion\u001b[39;00m \u001b[39mimport\u001b[39;00m LooseVersion\n\u001b[1;32m      4\u001b[0m \u001b[39mif\u001b[39;00m \u001b[39mnot\u001b[39;00m \u001b[39mhasattr\u001b[39m(tensorboard, \u001b[39m\"\u001b[39m\u001b[39m__version__\u001b[39m\u001b[39m\"\u001b[39m) \u001b[39mor\u001b[39;00m LooseVersion(\n\u001b[1;32m      5\u001b[0m     tensorboard\u001b[39m.\u001b[39m__version__\n\u001b[1;32m      6\u001b[0m ) \u001b[39m<\u001b[39m LooseVersion(\u001b[39m\"\u001b[39m\u001b[39m1.15\u001b[39m\u001b[39m\"\u001b[39m):\n",
      "\u001b[0;31mModuleNotFoundError\u001b[0m: No module named 'tensorboard'"
     ]
    }
   ],
   "source": [
    "import numpy as np\n",
    "import torch\n",
    "import torch.nn.functional as F\n",
    "from torch.utils.tensorboard import SummaryWriter\n",
    "\n",
    "import matplotlib.pyplot as plt"
   ]
  },
  {
   "cell_type": "code",
   "execution_count": 2,
   "metadata": {},
   "outputs": [],
   "source": [
    "# load les données\n",
    "\n",
    "fichier = open('villes.txt')\n",
    "donnees = fichier.read()\n",
    "villes = donnees.replace('\\n', ',').split(',')"
   ]
  },
  {
   "cell_type": "code",
   "execution_count": 3,
   "metadata": {},
   "outputs": [],
   "source": [
    "# preparation des données\n",
    "\n",
    "# on rajoute le token . au début et en fin\n",
    "for ville, i in zip(villes, range(len(villes))):\n",
    "    villes[i] = '.' + ville + '.'\n",
    "\n",
    "# création du vocabulaire\n",
    "vocabulaire = []\n",
    "\n",
    "for ville in villes:\n",
    "    for c in ville:\n",
    "        if c not in vocabulaire:\n",
    "            vocabulaire.append(c)\n",
    "\n",
    "vocabulaire = sorted(vocabulaire)\n",
    "vocabulaire[0] = '.'\n",
    "vocabulaire[3] = \" \"\n",
    "\n",
    "# pour convertir char <-> int\n",
    "char_to_int = {}\n",
    "int_to_char = {}\n",
    "\n",
    "for (c, i) in zip(vocabulaire, range(len(vocabulaire))):\n",
    "    char_to_int[c] = i\n",
    "    int_to_char[i] = c"
   ]
  },
  {
   "cell_type": "code",
   "execution_count": 4,
   "metadata": {},
   "outputs": [],
   "source": [
    "# création du dataset\n",
    "\n",
    "X = []\n",
    "Y = []\n",
    "\n",
    "context_len = 3\n",
    "\n",
    "for ville in villes:\n",
    "    context = [0] * context_len\n",
    "\n",
    "    for ch in ville:\n",
    "        X.append(context)\n",
    "        Y.append(char_to_int[ch])\n",
    "\n",
    "        context = context[1:] + [char_to_int[ch]]\n",
    "\n",
    "\n",
    "X = torch.tensor(X) # (M, 3), int64\n",
    "Y = torch.tensor(Y) # (M), int64\n",
    "\n",
    "n1 = int(0.8*X.shape[0])\n",
    "\n",
    "X_train = X[:n1]\n",
    "X_test = X[n1:]\n",
    "\n",
    "Y_train = Y[:n1]\n",
    "Y_test= Y[n1:]"
   ]
  },
  {
   "cell_type": "code",
   "execution_count": 11,
   "metadata": {},
   "outputs": [
    {
     "name": "stdout",
     "output_type": "stream",
     "text": [
      "47\n"
     ]
    }
   ],
   "source": [
    "max = 0\n",
    "for ville in villes:\n",
    "    if len(ville) > max:\n",
    "        max = len(ville)\n",
    "print(max)"
   ]
  },
  {
   "cell_type": "code",
   "execution_count": 36,
   "metadata": {},
   "outputs": [],
   "source": [
    "# X : (S, max, 44) avec S le nombre de séquences, max la longueur de la séquence la plus longue, 44=len(vocabulaire) donc padding nécessaire\n",
    "# W [[1,2,56,3], 1] donne W_1 avec les séquences 1,2,56,3\n",
    "\n",
    "X = torch.zeros((len(villes), max, 44))\n",
    "\n",
    "for (ville, j) in zip(villes, range(len(villes))):\n",
    "    X_ville = torch.zeros((max, 44))\n",
    "\n",
    "    for i in range(max):    \n",
    "        if i >= len(ville):\n",
    "            ch_one_hot = F.one_hot(torch.tensor(char_to_int['.']), num_classes=44).to(dtype=torch.float64)\n",
    "        else:\n",
    "            ch_one_hot = F.one_hot(torch.tensor(char_to_int[ville[i]]), num_classes=44).to(dtype=torch.float64)\n",
    "\n",
    "        X_ville[i] = ch_one_hot\n",
    "    \n",
    "    X[j] = X_ville"
   ]
  },
  {
   "cell_type": "code",
   "execution_count": null,
   "metadata": {},
   "outputs": [],
   "source": [
    "for i in range(100):\n",
    "    ix = torch.randint(low=0, high=X.shape[0], size=(32,))\n",
    "    "
   ]
  },
  {
   "cell_type": "code",
   "execution_count": null,
   "metadata": {},
   "outputs": [],
   "source": []
  },
  {
   "cell_type": "code",
   "execution_count": null,
   "metadata": {},
   "outputs": [],
   "source": []
  },
  {
   "cell_type": "code",
   "execution_count": null,
   "metadata": {},
   "outputs": [],
   "source": []
  },
  {
   "cell_type": "code",
   "execution_count": 48,
   "metadata": {},
   "outputs": [],
   "source": [
    "#todo : voir si on a aussi ce deuxième pic avec nos noms de villes générés"
   ]
  },
  {
   "cell_type": "code",
   "execution_count": 4,
   "metadata": {},
   "outputs": [],
   "source": [
    "occurences_lens = [0] * 48\n",
    "\n",
    "for ville in villes:\n",
    "    occurences_lens[len(ville)] += 1"
   ]
  },
  {
   "cell_type": "code",
   "execution_count": 5,
   "metadata": {},
   "outputs": [
    {
     "data": {
      "text/plain": [
       "[<matplotlib.lines.Line2D at 0x7facb66eb410>]"
      ]
     },
     "execution_count": 5,
     "metadata": {},
     "output_type": "execute_result"
    },
    {
     "data": {
      "image/png": "[encoded data removed]",
      "text/plain": [
       "<Figure size 640x480 with 1 Axes>"
      ]
     },
     "metadata": {},
     "output_type": "display_data"
    }
   ],
   "source": [
    "plt.plot(occurences_lens)"
   ]
  },
  {
   "cell_type": "code",
   "execution_count": 6,
   "metadata": {},
   "outputs": [],
   "source": [
    "occurences_lens_dict = {}\n",
    "\n",
    "for taille, occ in enumerate(occurences_lens):\n",
    "    if occ>32:\n",
    "        occurences_lens_dict[taille] = occ"
   ]
  },
  {
   "cell_type": "code",
   "execution_count": 7,
   "metadata": {},
   "outputs": [],
   "source": [
    "X = {} #composé de tensors (S, taille, 44) avec S le nb de séquences ayant pour taille taille\n",
    "\n",
    "for taille, occ in occurences_lens_dict.items():\n",
    "    Xlen = torch.zeros((occ, taille, 44))\n",
    "    compteur = 0\n",
    "\n",
    "    for ville in villes:\n",
    "        if len(ville) == taille:\n",
    "            X_ville = torch.zeros((taille, 44))\n",
    "\n",
    "            for i, ch in enumerate(ville):    \n",
    "                ch_one_hot = F.one_hot(torch.tensor(char_to_int[ch]), num_classes=44).to(dtype=torch.float64)\n",
    "                X_ville[i] = ch_one_hot\n",
    "\n",
    "            Xlen[compteur] = X_ville\n",
    "            compteur += 1\n",
    "    \n",
    "    X[taille] = Xlen"
   ]
  },
  {
   "cell_type": "code",
   "execution_count": null,
   "metadata": {},
   "outputs": [],
   "source": []
  },
  {
   "cell_type": "code",
   "execution_count": 8,
   "metadata": {},
   "outputs": [
    {
     "data": {
      "text/plain": [
       "{5: 160,\n",
       " 6: 777,\n",
       " 7: 2125,\n",
       " 8: 3465,\n",
       " 9: 3926,\n",
       " 10: 3920,\n",
       " 11: 3173,\n",
       " 12: 2598,\n",
       " 13: 1937,\n",
       " 14: 1469,\n",
       " 15: 1213,\n",
       " 16: 1035,\n",
       " 17: 1147,\n",
       " 18: 1219,\n",
       " 19: 1176,\n",
       " 20: 1223,\n",
       " 21: 1145,\n",
       " 22: 1032,\n",
       " 23: 964,\n",
       " 24: 829,\n",
       " 25: 684,\n",
       " 26: 519,\n",
       " 27: 343,\n",
       " 28: 213,\n",
       " 29: 104,\n",
       " 30: 53,\n",
       " 31: 49}"
      ]
     },
     "execution_count": 8,
     "metadata": {},
     "output_type": "execute_result"
    }
   ],
   "source": [
    "occurences_lens_dict"
   ]
  },
  {
   "cell_type": "code",
   "execution_count": 9,
   "metadata": {},
   "outputs": [
    {
     "data": {
      "text/plain": [
       "{5: 0.004383801852156283,\n",
       " 6: 0.021288837744533946,\n",
       " 7: 0.05822236834895063,\n",
       " 8: 0.0949367088607595,\n",
       " 9: 0.10756753794728478,\n",
       " 10: 0.10740314537782893,\n",
       " 11: 0.08693627048057428,\n",
       " 12: 0.07118198257438764,\n",
       " 13: 0.053071401172666996,\n",
       " 14: 0.04024878075510987,\n",
       " 15: 0.033234697791659815,\n",
       " 16: 0.02835771823113595,\n",
       " 17: 0.03142637952764535,\n",
       " 18: 0.03339909036111568,\n",
       " 19: 0.03222094361334868,\n",
       " 20: 0.03350868540741959,\n",
       " 21: 0.031371582004493394,\n",
       " 22: 0.028275521946408023,\n",
       " 23: 0.026412406159241602,\n",
       " 24: 0.022713573346484738,\n",
       " 25: 0.018740752917968107,\n",
       " 26: 0.014219957257931942,\n",
       " 27: 0.009397775220560031,\n",
       " 28: 0.005835936215683051,\n",
       " 29: 0.0028494712039015837,\n",
       " 30: 0.0014521343635267687,\n",
       " 31: 0.0013425393172228615}"
      ]
     },
     "execution_count": 9,
     "metadata": {},
     "output_type": "execute_result"
    }
   ],
   "source": [
    "probs_lens_dict = {}\n",
    "\n",
    "for k in occurences_lens_dict.keys():\n",
    "    probs_lens_dict[k] = occurences_lens_dict[k]/sum(occurences_lens_dict.values())\n",
    "\n",
    "probs_lens_dict"
   ]
  },
  {
   "cell_type": "code",
   "execution_count": 14,
   "metadata": {},
   "outputs": [],
   "source": [
    "d_model = 64\n",
    "mb_size = 32"
   ]
  },
  {
   "cell_type": "code",
   "execution_count": 61,
   "metadata": {},
   "outputs": [],
   "source": [
    "Wu = torch.randn((44+d_model, d_model))/10\n",
    "bu = torch.randn((d_model))/10\n",
    "\n",
    "Wv = torch.randn((d_model, 44))/10\n",
    "bv = torch.randn((44))/10\n",
    "\n",
    "parameters = [Wu, bu, Wv, bv]"
   ]
  },
  {
   "cell_type": "code",
   "execution_count": 85,
   "metadata": {},
   "outputs": [
    {
     "data": {
      "text/plain": [
       "9836"
      ]
     },
     "execution_count": 85,
     "metadata": {},
     "output_type": "execute_result"
    }
   ],
   "source": [
    "total_params = sum(p.numel() for p in parameters)\n",
    "total_params"
   ]
  },
  {
   "cell_type": "code",
   "execution_count": 62,
   "metadata": {},
   "outputs": [],
   "source": [
    "for p in parameters:\n",
    "    p.requires_grad = True"
   ]
  },
  {
   "cell_type": "code",
   "execution_count": 63,
   "metadata": {},
   "outputs": [],
   "source": [
    "g = torch.Generator().manual_seed(42)\n",
    "optim = torch.optim.AdamW(parameters, lr=0.0005, weight_decay=0.01, betas=(0.9, 0.99))"
   ]
  },
  {
   "cell_type": "code",
   "execution_count": 64,
   "metadata": {},
   "outputs": [],
   "source": [
    "lossi = []"
   ]
  },
  {
   "cell_type": "code",
   "execution_count": 106,
   "metadata": {},
   "outputs": [],
   "source": [
    "for _ in range(1000):\n",
    "    #sample une taille en fonction des probas\n",
    "    len_mb = list(probs_lens_dict.keys())[torch.multinomial(torch.tensor(list(probs_lens_dict.values()), dtype=torch.float32), num_samples=1, replacement=True, generator=g).item()]\n",
    "\n",
    "    ix_mb = torch.randint(low=0, high=X[len_mb].shape[0], size=(mb_size,), generator=g)\n",
    "\n",
    "    #forward\n",
    "    loss = 0\n",
    "    S = torch.ones((mb_size, d_model)) # (32, d_model)\n",
    "    for t in range(0, len_mb-1):\n",
    "        W_t = X[len_mb][ix_mb, t, :] # (32, 44)\n",
    "        \n",
    "        X_t = torch.cat([W_t, S], dim=1) # (32, 44+d_model)\n",
    "\n",
    "        S = F.tanh(X_t @ Wu + bu) # (32, d_model)\n",
    "\n",
    "        logits = S @ Wv + bv # (32, 44)\n",
    "\n",
    "        targets = torch.argmax(X[len_mb][ix_mb, t+1, :], dim=1)\n",
    "        loss += F.cross_entropy(logits, targets)\n",
    "\n",
    "    loss = loss / (len_mb - 1)\n",
    "    lossi.append(loss.log10().item())\n",
    "\n",
    "    optim.zero_grad()\n",
    "    loss.backward()\n",
    "    optim.step()"
   ]
  },
  {
   "cell_type": "code",
   "execution_count": 107,
   "metadata": {},
   "outputs": [
    {
     "data": {
      "text/plain": [
       "[<matplotlib.lines.Line2D at 0x7fac90f87c10>]"
      ]
     },
     "execution_count": 107,
     "metadata": {},
     "output_type": "execute_result"
    },
    {
     "data": {
      "image/png": "[encoded data removed]",
      "text/plain": [
       "<Figure size 640x480 with 1 Axes>"
      ]
     },
     "metadata": {},
     "output_type": "display_data"
    }
   ],
   "source": [
    "plt.plot(lossi)"
   ]
  },
  {
   "cell_type": "code",
   "execution_count": 111,
   "metadata": {},
   "outputs": [],
   "source": [
    "total_loss = 0\n",
    "total_seq_len = 0\n",
    "\n",
    "with torch.no_grad():  # Pas besoin de calculer les gradients lors de l'évaluation\n",
    "    for len_mb, tensor in X.items():  # Ici, je suppose que X est votre dataset d'entraînement\n",
    "        for ix_mb in range(tensor.shape[0]):\n",
    "            loss = 0\n",
    "            S = torch.ones((1, d_model))  # Ici, le mini-batch a une taille de 1\n",
    "            for t in range(0, len_mb-1):\n",
    "                W_t = tensor[ix_mb:ix_mb+1, t, :]  # Récupère un sous-ensemble de taille 1 du mini-batch\n",
    "                \n",
    "                X_t = torch.cat([W_t, S], dim=1) \n",
    "\n",
    "                S = F.tanh(X_t @ Wu + bu) \n",
    "\n",
    "                logits = S @ Wv + bv \n",
    "\n",
    "                targets = torch.argmax(tensor[ix_mb:ix_mb+1, t+1, :], dim=1)\n",
    "                loss += F.cross_entropy(logits, targets)\n",
    "            \n",
    "            total_loss += loss.item()\n",
    "            total_seq_len += len_mb - 1  # Compte le nombre total de pas de temps\n",
    "\n",
    "totalloss = total_loss / total_seq_len"
   ]
  },
  {
   "cell_type": "code",
   "execution_count": 112,
   "metadata": {},
   "outputs": [
    {
     "data": {
      "text/plain": [
       "1.986338191039846"
      ]
     },
     "execution_count": 112,
     "metadata": {},
     "output_type": "execute_result"
    }
   ],
   "source": [
    "totalloss"
   ]
  },
  {
   "cell_type": "code",
   "execution_count": 113,
   "metadata": {},
   "outputs": [
    {
     "name": "stdout",
     "output_type": "stream",
     "text": [
      "valladet\n",
      "counsain-le-chédagne\n",
      "borstay\n",
      "ethaboin\n",
      "iellafze\n",
      "vaybey-mère\n",
      "chaugly\n",
      "attard\n",
      "la jauziclonseine\n",
      "le raudien\n"
     ]
    }
   ],
   "source": [
    "#sampling\n",
    "\n",
    "g = torch.Generator().manual_seed(40 + 2)\n",
    "\n",
    "for _ in range(10):\n",
    "\n",
    "    nom = \"\"\n",
    "\n",
    "    #forward\n",
    "    S = torch.ones((1, d_model)) # (1, d_model)\n",
    "    W_t = F.one_hot(torch.tensor(0), num_classes=44).view(1, 44)\n",
    "\n",
    "    while True:\n",
    "        X_t = torch.cat([W_t, S], dim=1) # (1, 44+d_model)\n",
    "\n",
    "        S = F.tanh(X_t @ Wu + bu) # (1, d_model)\n",
    "\n",
    "        logits = S @ Wv + bv # (1, 44)\n",
    "        Y_t = F.softmax(logits, dim=1)\n",
    "\n",
    "        next_id = torch.multinomial(Y_t, num_samples=1, replacement=True, generator=g).item()\n",
    "\n",
    "        if next_id == 0:\n",
    "            break\n",
    "\n",
    "        W_t = F.one_hot(torch.tensor(next_id), num_classes=44).view(1, 44)\n",
    "        nom += int_to_char[next_id]\n",
    "    \n",
    "    print(nom)"
   ]
  },
  {
   "cell_type": "code",
   "execution_count": null,
   "metadata": {},
   "outputs": [],
   "source": []
  }
 ],
 "metadata": {
  "kernelspec": {
   "display_name": "torch23",
   "language": "python",
   "name": "python3"
  },
  "language_info": {
   "codemirror_mode": {
    "name": "ipython",
    "version": 3
   },
   "file_extension": ".py",
   "mimetype": "text/x-python",
   "name": "python",
   "nbconvert_exporter": "python",
   "pygments_lexer": "ipython3",
   "version": "3.11.3"
  },
  "orig_nbformat": 4
 },
 "nbformat": 4,
 "nbformat_minor": 2
}
