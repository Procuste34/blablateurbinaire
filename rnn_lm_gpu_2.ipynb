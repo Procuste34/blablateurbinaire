{
 "cells": [
  {
   "cell_type": "code",
   "execution_count": 2,
   "metadata": {},
   "outputs": [],
   "source": [
    "import numpy as np\n",
    "import torch\n",
    "import torch.nn as nn\n",
    "import torch.nn.functional as F\n",
    "\n",
    "import matplotlib.pyplot as plt"
   ]
  },
  {
   "cell_type": "code",
   "execution_count": 3,
   "metadata": {},
   "outputs": [],
   "source": [
    "device = \"cuda\" if torch.cuda.is_available() else \"cpu\""
   ]
  },
  {
   "cell_type": "code",
   "execution_count": 4,
   "metadata": {},
   "outputs": [],
   "source": [
    "# load les données\n",
    "\n",
    "fichier = open('villes.txt')\n",
    "donnees = fichier.read()\n",
    "villes = donnees.replace('\\n', ',').split(',')\n",
    "villes = [ville for ville in villes if len(ville) > 2]\n",
    "villes = sorted(villes, key=len)"
   ]
  },
  {
   "cell_type": "code",
   "execution_count": 5,
   "metadata": {},
   "outputs": [],
   "source": [
    "# création du vocabulaire\n",
    "\n",
    "vocabulaire = sorted(list(set(''.join(villes))))\n",
    "vocabulaire = [\"<pad>\", \"<SOS>\", \"<EOS>\"] + vocabulaire\n",
    "\n",
    "# pour convertir char <-> int\n",
    "char_to_int = {}\n",
    "int_to_char = {}\n",
    "\n",
    "for (c, i) in zip(vocabulaire, range(len(vocabulaire))):\n",
    "    char_to_int[c] = i\n",
    "    int_to_char[i] = c"
   ]
  },
  {
   "cell_type": "code",
   "execution_count": 6,
   "metadata": {},
   "outputs": [],
   "source": [
    "num_sequences = len(villes)\n",
    "max_len = max([len(ville) for ville in villes]) + 2 # account for <SOS> and <EOS>, which are appened at the beg. and end of each seq\n",
    "\n",
    "X = torch.zeros((num_sequences, max_len), dtype=torch.int32)\n",
    "\n",
    "for i in range(num_sequences):\n",
    "    X[i] = torch.tensor([char_to_int['<SOS>']] + [char_to_int[c] for c in villes[i]] + [char_to_int['<EOS>']] + [char_to_int['<pad>']] * (max_len - len(villes[i]) - 2))\n",
    "\n",
    "n_split = int(0.9*X.shape[0])\n",
    "\n",
    "idx_permut = torch.randperm(X.shape[0])\n",
    "idx_train, _ = torch.sort(idx_permut[:n_split])\n",
    "idx_val, _ = torch.sort(idx_permut[n_split:])\n",
    "\n",
    "X_train = X[idx_train]\n",
    "X_val = X[idx_val]"
   ]
  },
  {
   "cell_type": "code",
   "execution_count": 7,
   "metadata": {},
   "outputs": [],
   "source": [
    "def get_batch(split, batch_size):\n",
    "    # returns a batch, according to the data pipeline written in the W&B report\n",
    "    data = X_train if split == 'train' else X_val\n",
    "\n",
    "    idx_seed = torch.randint(high=data.shape[0], size=(1,), dtype=torch.int32).item() #sample la ligne seed autour de laquelle on va piocher les exemples\n",
    "\n",
    "    if split == 'train':\n",
    "        idx = torch.randint(low = max(0, idx_seed - 4 * batch_size), high = min(data.shape[0], idx_seed + 4 * batch_size), size=(batch_size,), dtype=torch.int32) #samples les indices du batch à produire\n",
    "        \n",
    "    else:\n",
    "        start = max(0, idx_seed-batch_size/2)\n",
    "        end =  min(data.shape[0]-1, idx_seed+batch_size/2)\n",
    "\n",
    "        if end-start != batch_size:\n",
    "            if start == 0:\n",
    "                end = end - (idx_seed-batch_size/2 - start)\n",
    "            else:\n",
    "                start = start - (idx_seed+batch_size/2 - end)\n",
    "\n",
    "        start, end = int(start), int(end)\n",
    "\n",
    "        idx = torch.arange(start=start, end=end, dtype=torch.int64)\n",
    "        \n",
    "    #pq 4 ? bon compromis entre assez large pour pas bcp de répétitions, assez petit pour pas bcp de padding (cf data.ipynb)\n",
    "    #en moyenne sur un batch, 6.7 d'écart en max_len et min_len (donc en moyenne pour une séq., 3,3 de padding) (ça fait bcp finalement? a comparer devant la longueur d'un mot) et max_len 17.8\n",
    "    #longueur moyenne d'une séq. : 11.6. donc en moyenne pour une séq., on rajoute 28% de compute inutile...\n",
    "    #on aura forcement pas mal de padding sur le val car dataset comparable devant 4*batch_size\n",
    "\n",
    "    #pour 2, on aura 3.5 d'écart, donc 1.7 de padding\n",
    "    # donc 14% de compute inutile par mot\n",
    "\n",
    "    #pour 2, on a 12% des exemples qui sont des répétitions (122 pour un batch de 1024, en moyenne)\n",
    "    #pour 4, seulement 6% (67 exemples)\n",
    "\n",
    "    #pour batch_size=512\n",
    "    #pour 2, 5% de répétitions, 1.8 de disp. donc 0.9 de padding (soit 7% de compute inutile par séq.)\n",
    "    #pour 4, 3% de répétitions, 3.5 de disp. donc 1.7 de padding (soit 14% de compute inutile par séq.)\n",
    "\n",
    "    #pour privilégier des données iid, je choisi de partir sur 4 (pour avoir des batch diversifiés, au détriment d'un peu de compute inutile)\n",
    "    #voir considérer plus ?\n",
    "    \n",
    "    #pour le val. set, 4 semble bcp trop\n",
    "    #pour 4, 12% de répétitions, 15 de disp. donc 7 de padding (soit plus de 50% de compute lost)\n",
    "    #c'est dommage, vu qu'avoir des batchs diversifiés n'a aucun interet pour le calcul du loss, donc on ne fait que perdre du compute\n",
    "    #mais le pb avec 1 (par exemple) c'est qu'on a enormément de répétitions (25%) au sein d'un batch... donc estimation du cout totalement erronée\n",
    "    #je choisis d'adopter une stratégie un peu différente: sample idx_seed, et on prends tous les index entre idx_seed-batch_size/2 et idx_seed+batch_size/2\n",
    "\n",
    "    idx_sorted, _ = torch.sort(idx) #on les ordonne pour recuperer facilement la longueur de la plus grande seq. du batch\n",
    "\n",
    "    X_batch = data[idx_sorted] #on extrait la matrice qui va produire Xb et Yb\n",
    "\n",
    "    max_len_batch = torch.sum(torch.ne(X_batch[-1], char_to_int['<pad>'])) #longueur de la plus grande seq. du batch : torch.ne(X_batch[-1], 0) crée une matrice masque, avec True si diff de 0, False si egal a 0\n",
    "\n",
    "    Xb = X_batch[:, :max_len_batch-1] #on selectionne que jusqu'a la len max - 1 (<EOS> du plus long inutile) (le reste n'est que padding)\n",
    "    Yb = X_batch[:, 1:max_len_batch] #meme que Xb, mais décalé de 1 (avec le <EOS> mais sans le <SOS>)\n",
    "\n",
    "    #Xb[Xb == 1] = -1 #on remplace le <EOS> par du padding (totalement optionnel)\n",
    "\n",
    "    Xb = Xb.pin_memory().to('cuda', non_blocking=True)\n",
    "    Yb = Yb.type(torch.LongTensor).pin_memory().to('cuda', non_blocking=True)\n",
    "    #Yb = Yb.type(torch.LongTensor)\n",
    "\n",
    "    return Xb, Yb\n",
    "\n",
    "#todo: mettre les shapes a cote"
   ]
  },
  {
   "cell_type": "code",
   "execution_count": 113,
   "metadata": {},
   "outputs": [],
   "source": [
    "d_model = 64\n",
    "#mb_size = 32\n",
    "embed_dim = 64"
   ]
  },
  {
   "cell_type": "code",
   "execution_count": 114,
   "metadata": {},
   "outputs": [],
   "source": [
    "class RecurrentUnit(nn.Module):\n",
    "    def __init__(self):\n",
    "        super().__init__()\n",
    "        self.fc = nn.Linear(embed_dim+d_model, embed_dim)\n",
    "\n",
    "    def forward(self, x, h_prev):\n",
    "        h = self.fc(torch.cat([x, h_prev], dim=1))\n",
    "        h = F.tanh(h)\n",
    "        return h\n",
    "    \n",
    "class GatedRecurrentUnit(nn.Module):\n",
    "    def __init__(self):\n",
    "        super().__init__()\n",
    "        self.fc_z = nn.Linear(embed_dim+d_model, d_model)\n",
    "        self.fc_r = nn.Linear(embed_dim+d_model, d_model)\n",
    "        self.fc_h_hat = nn.Linear(embed_dim+d_model, d_model)\n",
    "\n",
    "    def forward(self, x, h_prev):\n",
    "        z = F.sigmoid(self.fc_z(torch.cat([x, h_prev], dim=1)))\n",
    "        r = F.sigmoid(self.fc_r(torch.cat([x, h_prev], dim=1)))\n",
    "        h_hat = F.tanh(self.fc_h_hat(torch.cat([x, r * h_prev], dim=1))) # * = torch.mul\n",
    "        h = (1 - z) * h_prev + z * h_hat\n",
    "\n",
    "        #r permet de remove/reset des infos/channels de h_prev\n",
    "        #on utilise alors ce hidden state comme candidat pour le suivant, h_hat\n",
    "        #z permet de controler quels channels (de l'hidden state) update\n",
    "\n",
    "        return h\n",
    "\n",
    "\n",
    "class RNN_LM(nn.Module):\n",
    "    def __init__(self):\n",
    "        super().__init__()\n",
    "\n",
    "        self.h0 = nn.Parameter(torch.zeros(1, d_model))\n",
    "        self.embed = nn.Embedding(len(vocabulaire), embed_dim, padding_idx=0)\n",
    "        #self.cell = RecurrentUnit()\n",
    "        self.cell = GatedRecurrentUnit()\n",
    "        self.lm_head = nn.Linear(d_model, len(vocabulaire))\n",
    "\n",
    "    def forward(self, x, targets=None):\n",
    "        # x : (B, T)\n",
    "        # target : (B, T)\n",
    "\n",
    "        B, T = x.size()\n",
    "\n",
    "        emb = self.embed(x) # (B, T, embed_dim)\n",
    "\n",
    "        H_prev = self.h0.expand((B, -1)) # (B, d_model)\n",
    "        hiddens = []\n",
    "        for t in range(T):\n",
    "            X_t = emb[:, t, :] #todo : remove last : # todo shape (B, embed_dim)\n",
    "            H_t = self.cell(X_t, H_prev) # (B, d_model)\n",
    "            H_prev = H_t\n",
    "            hiddens.append(H_t)\n",
    "\n",
    "        hidden = torch.stack(hiddens, 1) # (B, T, d_model)\n",
    "        logits = self.lm_head(hidden) # (B, T, vocab_size)\n",
    "\n",
    "        loss = None\n",
    "        if targets is not None:\n",
    "            loss = F.cross_entropy(logits.view(-1, logits.size(-1)), targets.view(-1), ignore_index=0)\n",
    "        \n",
    "        return logits, loss\n",
    "    \n",
    "    def sample(self, prompt='', max_new_tokens=None):\n",
    "        init_len = len(prompt)+1\n",
    "\n",
    "        #convert prompt to (1, T) input tensor X\n",
    "        X = torch.zeros(size=(1, init_len), dtype=torch.int64, device=device) #<SOS>\n",
    "\n",
    "        X[0, 0] = 1 #<SOS>\n",
    "        for i, ch in enumerate(prompt):\n",
    "            X[0, i+1] = char_to_int[ch]\n",
    "\n",
    "        #with torch.no_grad():\n",
    "        # forward is 2 fold : one when we feed in the prompt, one for autoregressive gen\n",
    "\n",
    "        #prompt feeding\n",
    "        h_prev = self.h0\n",
    "        emb = self.embed(X)\n",
    "        for t in range(init_len):\n",
    "            x_t = emb[:, t, :]\n",
    "            h_t = self.cell(x_t, h_prev)\n",
    "            h_prev = h_t\n",
    "            \n",
    "        #autoregressive gen\n",
    "        while True:\n",
    "            logits = self.lm_head(h_prev) # (1, vocab_size)\n",
    "            probs = F.softmax(logits, dim=1)\n",
    "\n",
    "            next_token = torch.multinomial(probs, num_samples=1, replacement=True).item()\n",
    "            next_char = int_to_char[next_token]\n",
    "\n",
    "            if next_char == '<EOS>':\n",
    "                break\n",
    "                \n",
    "            prompt += next_char\n",
    "\n",
    "            if len(prompt)-init_len+1 == max_new_tokens:\n",
    "                break\n",
    "\n",
    "            w_t = next_token #entry for next timestep\n",
    "            x_t = self.embed(torch.tensor(w_t, dtype=torch.int64, device=device)).view(1, -1)\n",
    "            h_t = self.cell(x_t, h_prev)\n",
    "            h_prev = h_t\n",
    "        \n",
    "        return prompt\n",
    "    \n",
    "#todo : bien remettre en place les notations, afin de pouvoir en faire un report\n",
    "#todo : report avec losscape"
   ]
  },
  {
   "cell_type": "code",
   "execution_count": 115,
   "metadata": {},
   "outputs": [],
   "source": [
    "g = torch.Generator().manual_seed(42)\n",
    "model = RNN_LM()\n",
    "model.to(device)\n",
    "optim = torch.optim.AdamW(model.parameters(), lr=0.01)"
   ]
  },
  {
   "cell_type": "code",
   "execution_count": 116,
   "metadata": {},
   "outputs": [
    {
     "data": {
      "text/plain": [
       "30766"
      ]
     },
     "execution_count": 116,
     "metadata": {},
     "output_type": "execute_result"
    }
   ],
   "source": [
    "total_params = sum(p.numel() for p in model.parameters())\n",
    "total_params"
   ]
  },
  {
   "cell_type": "code",
   "execution_count": 117,
   "metadata": {},
   "outputs": [],
   "source": [
    "lossi = []"
   ]
  },
  {
   "cell_type": "code",
   "execution_count": 122,
   "metadata": {},
   "outputs": [],
   "source": [
    "for _ in range(1000):\n",
    "    Xb, Yb = get_batch('train', 1024)\n",
    "\n",
    "    #forward\n",
    "    logits, loss = model(Xb, Yb)\n",
    "\n",
    "    lossi.append(loss.item())\n",
    "\n",
    "    optim.zero_grad()\n",
    "    loss.backward()\n",
    "    optim.step()"
   ]
  },
  {
   "cell_type": "code",
   "execution_count": 123,
   "metadata": {},
   "outputs": [
    {
     "data": {
      "text/plain": [
       "[<matplotlib.lines.Line2D at 0x7f48c49e8ed0>]"
      ]
     },
     "execution_count": 123,
     "metadata": {},
     "output_type": "execute_result"
    },
    {
     "data": {
      "image/png": "[encoded data removed]",
      "text/plain": [
       "<Figure size 640x480 with 1 Axes>"
      ]
     },
     "metadata": {},
     "output_type": "display_data"
    }
   ],
   "source": [
    "plt.plot(lossi)"
   ]
  },
  {
   "cell_type": "code",
   "execution_count": 136,
   "metadata": {},
   "outputs": [
    {
     "name": "stdout",
     "output_type": "stream",
     "text": [
      "najan\n",
      "orbac\n",
      "alatte\n",
      "assort\n",
      "faumon\n",
      "fricourt\n",
      "gièdes\n",
      "albercourt\n",
      "bulhans\n",
      "grambes\n"
     ]
    }
   ],
   "source": [
    "for _ in range(10):\n",
    "    print(model.sample(\"\"))"
   ]
  },
  {
   "cell_type": "code",
   "execution_count": null,
   "metadata": {},
   "outputs": [],
   "source": []
  },
  {
   "cell_type": "code",
   "execution_count": null,
   "metadata": {},
   "outputs": [],
   "source": []
  }
 ],
 "metadata": {
  "kernelspec": {
   "display_name": "torch23",
   "language": "python",
   "name": "python3"
  },
  "language_info": {
   "codemirror_mode": {
    "name": "ipython",
    "version": 3
   },
   "file_extension": ".py",
   "mimetype": "text/x-python",
   "name": "python",
   "nbconvert_exporter": "python",
   "pygments_lexer": "ipython3",
   "version": "3.11.3"
  },
  "orig_nbformat": 4
 },
 "nbformat": 4,
 "nbformat_minor": 2
}
